{
 "cells": [
  {
   "cell_type": "code",
   "execution_count": 1,
   "metadata": {},
   "outputs": [],
   "source": [
    "import numpy as np\n",
    "import pandas as pd\n",
    "import seaborn as sn\n",
    "from copy import copy\n",
    "import matplotlib.pyplot as plt\n",
    "from scipy.linalg import hilbert, solve, norm, eigh\n",
    "from numpy import matrix"
   ]
  },
  {
   "cell_type": "code",
   "execution_count": 32,
   "metadata": {},
   "outputs": [],
   "source": [
    "def max_eigen(a, epsilon):\n",
    "    iteration = 0\n",
    "    condition = True\n",
    "    x = matrix(np.random.rand(a.shape[0], 1))\n",
    "    l = 0\n",
    "    while condition:\n",
    "        iteration += 1\n",
    "        l_prev = l\n",
    "        x_prev = copy(x)\n",
    "        x = a*x\n",
    "        l = float(x[0]/x_prev[0])\n",
    "        condition = abs(l - l_prev) > epsilon\n",
    "    return l, x, iteration\n",
    "\n",
    "\n",
    "def max_scalar(a, epsilon):\n",
    "    iteration = 0\n",
    "    condition = True\n",
    "    x = matrix(np.random.rand(a.shape[0], 1))\n",
    "    y = matrix(np.random.rand(a.shape[0], 1))\n",
    "    a_t = a.T\n",
    "    l = 0\n",
    "    while condition:\n",
    "        iteration += 1\n",
    "        x_prev = copy(x)\n",
    "        l_prev = l\n",
    "        x = a * x\n",
    "        y = a_t * y\n",
    "        l = float(x.T * y)/ float(x_prev.T * y)\n",
    "        condition = abs(l - l_prev) > epsilon\n",
    "    return l, x, iteration "
   ]
  },
  {
   "cell_type": "code",
   "execution_count": 36,
   "metadata": {},
   "outputs": [],
   "source": [
    "def test(a):\n",
    "    res = []\n",
    "    for eps in range(-2, -6, -1):\n",
    "        b = max_eigen(a, 10**eps)\n",
    "        c = max_scalar(a, 10**eps)\n",
    "        res.append([10**eps, b[2], abs(eigh(a)[0][-1]-b[0]), c[2], abs(eigh(a)[0][-1]-c[0])])\n",
    "    print('Степенной метод')\n",
    "    print('{:<10}{:<12}{:<15}'.format('Epsilon', 'Iterations', 'Норма ошибки'))\n",
    "    for i in res:\n",
    "        print('{:<10}{:<12}{:<7g}'.format(i[0], i[1], i[2]))\n",
    "    print('Метод скалярных произведений')\n",
    "    print('{:<10}{:<12}{:<15}'.format('Epsilon', 'Iterations', 'Норма ошибки'))\n",
    "    for i in res:\n",
    "        print('{:<10}{:<12}{:<7g}'.format(i[0], i[3], i[4]))   "
   ]
  },
  {
   "cell_type": "code",
   "execution_count": 40,
   "metadata": {
    "scrolled": false
   },
   "outputs": [
    {
     "name": "stdout",
     "output_type": "stream",
     "text": [
      "\n",
      "Размер матрицы 5\n",
      "Степенной метод\n",
      "Epsilon   Iterations  Норма ошибки   \n",
      "0.01      5           0.000428101\n",
      "0.001     6           6.77821e-05\n",
      "0.0001    6           1.40617e-05\n",
      "1e-05     7           6.64112e-07\n",
      "Метод скалярных произведений\n",
      "Epsilon   Iterations  Норма ошибки   \n",
      "0.01      3           8.45812e-06\n",
      "0.001     3           5.6103e-06\n",
      "0.0001    4           9.56681e-08\n",
      "1e-05     4           1.61936e-07\n",
      "\n",
      "Размер матрицы 10\n",
      "Степенной метод\n",
      "Epsilon   Iterations  Норма ошибки   \n",
      "0.01      5           0.00124626\n",
      "0.001     7           5.00983e-05\n",
      "0.0001    8           4.95753e-06\n",
      "1e-05     10          5.21935e-07\n",
      "Метод скалярных произведений\n",
      "Epsilon   Iterations  Норма ошибки   \n",
      "0.01      3           6.20318e-05\n",
      "0.001     4           2.562e-06\n",
      "0.0001    5           4.32398e-07\n",
      "1e-05     5           1.1888e-07\n",
      "\n",
      "Размер матрицы 15\n",
      "Степенной метод\n",
      "Epsilon   Iterations  Норма ошибки   \n",
      "0.01      6           0.000727158\n",
      "0.001     7           0.000173911\n",
      "0.0001    8           2.46493e-05\n",
      "1e-05     10          2.23802e-06\n",
      "Метод скалярных произведений\n",
      "Epsilon   Iterations  Норма ошибки   \n",
      "0.01      3           0.000351594\n",
      "0.001     4           2.4571e-05\n",
      "0.0001    5           9.03678e-07\n",
      "1e-05     6           4.38596e-08\n",
      "\n",
      "Размер матрицы 20\n",
      "Степенной метод\n",
      "Epsilon   Iterations  Норма ошибки   \n",
      "0.01      6           0.00110909\n",
      "0.001     8           9.86053e-05\n",
      "0.0001    9           1.40795e-05\n",
      "1e-05     10          3.15613e-06\n",
      "Метод скалярных произведений\n",
      "Epsilon   Iterations  Норма ошибки   \n",
      "0.01      4           5.33461e-05\n",
      "0.001     5           5.01319e-06\n",
      "0.0001    5           1.84014e-06\n",
      "1e-05     6           9.96721e-08\n"
     ]
    }
   ],
   "source": [
    "for i in range(5, 21, 5):\n",
    "    print(f'\\nРазмер матрицы {i}')\n",
    "    test(matrix(hilbert(i)))"
   ]
  }
 ],
 "metadata": {
  "kernelspec": {
   "display_name": "Python 3",
   "language": "python",
   "name": "python3"
  },
  "language_info": {
   "codemirror_mode": {
    "name": "ipython",
    "version": 3
   },
   "file_extension": ".py",
   "mimetype": "text/x-python",
   "name": "python",
   "nbconvert_exporter": "python",
   "pygments_lexer": "ipython3",
   "version": "3.9.1"
  }
 },
 "nbformat": 4,
 "nbformat_minor": 4
}
