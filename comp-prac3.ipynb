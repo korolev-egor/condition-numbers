{
 "cells": [
  {
   "cell_type": "code",
   "execution_count": 13,
   "metadata": {},
   "outputs": [],
   "source": [
    "import numpy as np\n",
    "import pandas as pd\n",
    "import seaborn as sn\n",
    "from copy import copy\n",
    "import matplotlib.pyplot as plt\n",
    "from scipy.linalg import hilbert, solve\n",
    "from numpy import matrix"
   ]
  },
  {
   "cell_type": "code",
   "execution_count": 19,
   "metadata": {},
   "outputs": [],
   "source": [
    "def spin_method(a):  # Разложение методом вращений\n",
    "    def t(i, j, a):  # Строим матрицу вращения\n",
    "        x = a[i, i]\n",
    "        y = a[i, j]\n",
    "        root = np.sqrt(x*x + y*y)\n",
    "        cos = x/root\n",
    "        sin = -y/root\n",
    "        m = matrix(np.eye(a.shape[0], a.shape[0]))\n",
    "        m[i, i] = cos\n",
    "        m[i, j] = -sin\n",
    "        m[j, j] = cos\n",
    "        m[j, i] = sin\n",
    "        return m\n",
    "    \n",
    "    r = copy(a)\n",
    "    n = a.shape[0]\n",
    "    q = np.eye(n)\n",
    "    for i in range(n-1):\n",
    "        for j in range(i+1, n):\n",
    "            t_temp = t(i, j, a)\n",
    "            r = t_temp * r\n",
    "            q = q * t_temp.T\n",
    "    return q, r"
   ]
  },
  {
   "cell_type": "code",
   "execution_count": 3,
   "metadata": {},
   "outputs": [],
   "source": [
    "def norm(matrix):  # Спектральная норма матрицы\n",
    "    return np.linalg.norm(x=matrix, ord=2)\n",
    "\n",
    "\n",
    "def cond(matrix):  # Спектральный критерий обусловленности\n",
    "    return norm(matrix) * norm(matrix.getI())\n",
    "\n",
    "\n",
    "def sqrt_decomposition(a):  # Метод квадратого корня\n",
    "    n = a.shape[0]\n",
    "    l = matrix(np.zeros((n, n)))\n",
    "    for i in range(n):\n",
    "        for j in range(i):\n",
    "            l[i, j] = (a[i, j] - sum([l[i, k]*l[j, k] for k in range(j)])) / l[j, j]\n",
    "        l[i, i] = np.sqrt(a[i, i]-sum([l[i, k]*l[i, k] for k in range(i)]))\n",
    "    return l\n",
    "\n",
    "def solve_root(a, b):  # Решение системы через разложение методом квадратного корня\n",
    "    l = sqrt_decomposition(a)\n",
    "    y = solve(l, b)\n",
    "    x = solve(l.T, y)\n",
    "    return x\n",
    "\n",
    "def solve_spin(a, b):  # Решение системы через разложение методом вращений\n",
    "    q, r = spin_method(a)\n",
    "    y = solve(q, b)\n",
    "    x = solve(r, y)\n",
    "    return x    \n",
    "\n",
    "\n",
    "def regularization(a, b):\n",
    "    n = a.shape[0]\n",
    "    conds = [cond(a)]\n",
    "    errors = [0]\n",
    "    alphas = [0]\n",
    "    x = solve_spin(a, b)\n",
    "    for alpha in range(-12, 0):\n",
    "        a_alpha = a + (10**alpha)*matrix(np.eye(n))\n",
    "        conds.append(cond(a_alpha))\n",
    "        x_alpha = solve_spin(a_alpha, b)\n",
    "        errors.append(norm(x_alpha-x))\n",
    "        alphas.append(10**alpha)\n",
    "    res = list(zip(alphas, conds, errors))\n",
    "    return res"
   ]
  },
  {
   "cell_type": "code",
   "execution_count": 5,
   "metadata": {},
   "outputs": [],
   "source": [
    "a1 = matrix(hilbert(5))\n",
    "a2 = matrix(hilbert(10))\n",
    "x1 = np.ones((5, 1))\n",
    "x2 = np.ones((10, 1))\n",
    "b1 = a1*x1\n",
    "b2 = a2*x2"
   ]
  },
  {
   "cell_type": "code",
   "execution_count": 6,
   "metadata": {
    "scrolled": true
   },
   "outputs": [
    {
     "name": "stdout",
     "output_type": "stream",
     "text": [
      "Сравнение норм разности для матриц Гильберта\n",
      "Порядок 5\n",
      "Метод корня: 4.891166397860348e-12\n",
      "Метод вращений: 1.9414159060339524e-11\n",
      "Порядок 10\n",
      "Метод корня: 0.00011220285980174058\n",
      "Метод вращений: 0.0015320813003343338\n"
     ]
    }
   ],
   "source": [
    "print(\"Сравнение норм разности для матриц Гильберта\")\n",
    "print(\"Порядок 5\")\n",
    "print(\"Метод корня: {}\\nМетод вращений: {}\".format(norm(solve_root(a1, b1) - x1), norm(solve_spin(a1, b1) - x1)))\n",
    "print(\"Порядок 10\")\n",
    "print(\"Метод корня: {}\\nМетод вращений: {}\".format(norm(solve_root(a2, b2) - x2), norm(solve_spin(a2, b2) - x2)))"
   ]
  },
  {
   "cell_type": "code",
   "execution_count": 7,
   "metadata": {},
   "outputs": [],
   "source": [
    "def main(a, b):\n",
    "    res = regularization(a, b)\n",
    "    print('A =\\n', a, '\\nb =\\n', b)\n",
    "    print('\\n\\n{:<8}{:<12}{:<7}'.format('Alpha', 'Cond(A)', 'Модуль невязки'))\n",
    "    for item in res:\n",
    "        print('{:<8} {:<12.0f} {:<7}'.format(item[0], item[1], item[2]))"
   ]
  },
  {
   "cell_type": "code",
   "execution_count": 8,
   "metadata": {},
   "outputs": [],
   "source": [
    "def test(a, alpha):\n",
    "    n = a.shape[0]\n",
    "    x0 = generatex0(n)\n",
    "    print('Значение фиксированного alpha:', alpha)\n",
    "    print('Норма x0(решения):', norm(x0))\n",
    "    b = a * x0\n",
    "    res = []\n",
    "    res.append(norm(solve_spin(a+0.1*alpha*matrix(np.eye(n)), b)-x0))\n",
    "    res.append(norm(solve_spin(a+alpha*matrix(np.eye(n)), b)-x0))\n",
    "    res.append(norm(solve_spin(a+10*alpha*matrix(np.eye(n)), b)-x0))\n",
    "    print(\"Нормы разности (|x-x_alpha|):\")\n",
    "    print(\"0.1alpha\", res[0], '\\nalpha', res[1], '\\n10alpha', res[2])"
   ]
  },
  {
   "cell_type": "code",
   "execution_count": 9,
   "metadata": {},
   "outputs": [
    {
     "name": "stdout",
     "output_type": "stream",
     "text": [
      "A =\n",
      " [[1.         0.5        0.33333333 0.25       0.2       ]\n",
      " [0.5        0.33333333 0.25       0.2        0.16666667]\n",
      " [0.33333333 0.25       0.2        0.16666667 0.14285714]\n",
      " [0.25       0.2        0.16666667 0.14285714 0.125     ]\n",
      " [0.2        0.16666667 0.14285714 0.125      0.11111111]] \n",
      "b =\n",
      " [[2.28333333]\n",
      " [1.45      ]\n",
      " [1.09285714]\n",
      " [0.88452381]\n",
      " [0.74563492]]\n",
      "\n",
      "\n",
      "Alpha   Cond(A)     Модуль невязки\n",
      "0        476607       0      \n",
      "1e-12    476607       1.3753435909026073e-09\n",
      "1e-11    476606       1.4370254842637523e-08\n",
      "1e-10    476593       1.4361958569377103e-07\n",
      "1e-09    476462       1.4357419117582609e-06\n",
      "1e-08    475162       1.4318729308917871e-05\n",
      "1e-07    462539       0.0001394205855572008\n",
      "1e-06    365457       0.001104924477275212\n",
      "1e-05    117931       0.003792613351409736\n",
      "0.0001   15173        0.011673447070005581\n",
      "0.001    1563         0.038779276216364275\n",
      "0.01     158          0.1300612420360287\n",
      "0.1      17           0.4044243648415419\n",
      "A =\n",
      " [[1.         0.5        0.33333333 0.25       0.2        0.16666667\n",
      "  0.14285714 0.125      0.11111111 0.1       ]\n",
      " [0.5        0.33333333 0.25       0.2        0.16666667 0.14285714\n",
      "  0.125      0.11111111 0.1        0.09090909]\n",
      " [0.33333333 0.25       0.2        0.16666667 0.14285714 0.125\n",
      "  0.11111111 0.1        0.09090909 0.08333333]\n",
      " [0.25       0.2        0.16666667 0.14285714 0.125      0.11111111\n",
      "  0.1        0.09090909 0.08333333 0.07692308]\n",
      " [0.2        0.16666667 0.14285714 0.125      0.11111111 0.1\n",
      "  0.09090909 0.08333333 0.07692308 0.07142857]\n",
      " [0.16666667 0.14285714 0.125      0.11111111 0.1        0.09090909\n",
      "  0.08333333 0.07692308 0.07142857 0.06666667]\n",
      " [0.14285714 0.125      0.11111111 0.1        0.09090909 0.08333333\n",
      "  0.07692308 0.07142857 0.06666667 0.0625    ]\n",
      " [0.125      0.11111111 0.1        0.09090909 0.08333333 0.07692308\n",
      "  0.07142857 0.06666667 0.0625     0.05882353]\n",
      " [0.11111111 0.1        0.09090909 0.08333333 0.07692308 0.07142857\n",
      "  0.06666667 0.0625     0.05882353 0.05555556]\n",
      " [0.1        0.09090909 0.08333333 0.07692308 0.07142857 0.06666667\n",
      "  0.0625     0.05882353 0.05555556 0.05263158]] \n",
      "b =\n",
      " [[2.92896825]\n",
      " [2.01987734]\n",
      " [1.60321068]\n",
      " [1.34680042]\n",
      " [1.16822899]\n",
      " [1.03489566]\n",
      " [0.93072899]\n",
      " [0.84669538]\n",
      " [0.77725094]\n",
      " [0.7187714 ]]\n",
      "\n",
      "\n",
      "Alpha   Cond(A)     Модуль невязки\n",
      "0        16026019477413 0      \n",
      "1e-12    1579276425376 0.0016130225890054154\n",
      "1e-11    173297350657 0.0015418842660621876\n",
      "1e-10    17500067966  0.0015337645156795997\n",
      "1e-09    1751728169   0.001532071379178393\n",
      "1e-08    175190053    0.0015394901226335861\n",
      "1e-07    17519179     0.0016357664008814364\n",
      "1e-06    1751920      0.0022603991645689402\n",
      "1e-05    175193       0.0058354925097492075\n",
      "0.0001   17520        0.018136491772636425\n",
      "0.001    1753         0.05602969242669378\n",
      "0.01     176          0.1799562295121322\n",
      "0.1      19           0.5787652265127876\n"
     ]
    }
   ],
   "source": [
    "main(a1, b1)\n",
    "main(a2, b2)"
   ]
  },
  {
   "cell_type": "code",
   "execution_count": null,
   "metadata": {},
   "outputs": [],
   "source": []
  }
 ],
 "metadata": {
  "kernelspec": {
   "display_name": "Python 3",
   "language": "python",
   "name": "python3"
  },
  "language_info": {
   "codemirror_mode": {
    "name": "ipython",
    "version": 3
   },
   "file_extension": ".py",
   "mimetype": "text/x-python",
   "name": "python",
   "nbconvert_exporter": "python",
   "pygments_lexer": "ipython3",
   "version": "3.9.1"
  }
 },
 "nbformat": 4,
 "nbformat_minor": 4
}
