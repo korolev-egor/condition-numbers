{
 "cells": [
  {
   "cell_type": "code",
   "execution_count": 1,
   "metadata": {},
   "outputs": [],
   "source": [
    "import numpy as np\n",
    "from sympy import * \n",
    "import pandas as pd\n",
    "import matplotlib.pyplot as plt\n",
    "import seaborn as sns\n",
    "from copy import copy\n",
    "from numpy.linalg import norm, solve\n",
    "from mpl_toolkits import mplot3d\n",
    "sns.set_theme()"
   ]
  },
  {
   "cell_type": "markdown",
   "metadata": {},
   "source": [
    "# u(x, t)_t = κ*u(x, t)_xx + f (x, t),\n",
    "# κ = const > 0, 0 < x < a, 0 < t <= T\n",
    "# u(x, 0) = µ(x), 0 <= x <= a;\n",
    "# u(0, t) = µ1(t), u(a, t) = µ2(t), 0 <= t <= T."
   ]
  },
  {
   "cell_type": "code",
   "execution_count": 2,
   "metadata": {},
   "outputs": [],
   "source": [
    "def solve_equasion(m):\n",
    "    def implicit():\n",
    "        def tridiagonal(k):\n",
    "            alpha_temp = [0 for _ in range(n+1)]\n",
    "            beta_temp = [0 for _ in range(n+1)]\n",
    "            gamma_temp = [0 for _ in range(n+1)]\n",
    "            gamma_temp[0] = 1\n",
    "            alpha_temp[0] = 0\n",
    "            beta_temp[0] = mu1(t[k])\n",
    "            for i in range(1, n):\n",
    "                a_i = koef/(h*h)\n",
    "                b_i = -2*koef/(h*h) - 1/tau\n",
    "                c_i = koef/(h*h)\n",
    "                d_i = -u[k-1, i]/tau - f(t[k], x[i])\n",
    "                gamma_temp[i] =  b_i + a_i*alpha_temp[i-1]\n",
    "                alpha_temp[i] = - c_i / gamma_temp[i]\n",
    "                beta_temp[i] = (d_i - a_i * beta_temp[i-1])/gamma_temp[i]\n",
    "            gamma_temp[n] = 1\n",
    "            beta_temp[n] = mu2(t[k])\n",
    "            u[k, n] = beta_temp[n]\n",
    "            for i in range(n-1, -1, -1):\n",
    "                u[k, i] = alpha_temp[i]*u[k, i+1] + beta_temp[i]\n",
    "        u = np.zeros((m+1, n+1))\n",
    "        for i in range(n+1):\n",
    "            u[0, i] = mu(x[i])\n",
    "        for k in range(1, m+1):\n",
    "            tridiagonal(k)\n",
    "        return u\n",
    "\n",
    "    def explicit():\n",
    "        u = np.zeros((m+1, n+1))\n",
    "        for i in range(m+1):\n",
    "            u[i, 0] = mu1(t[i])\n",
    "            u[i, n] = mu2(t[i])\n",
    "        for i in range(n+1):\n",
    "            u[0, i] = mu(x[i])\n",
    "        for i in range(1, m+1):\n",
    "            for j in range(1, n):\n",
    "                u[i, j] = u[i-1, j] + tau*koef*(u[i-1, j+1]-2*u[i-1, j] + u[i-1, j-1])/(h*h) + tau*f(t[i-1], x[j])\n",
    "        return u\n",
    "    \n",
    "    h = a/n\n",
    "    tau = T/m\n",
    "    x = [i*h for i in range(n+1)]\n",
    "    t = [i*tau for i in range(m+1)]\n",
    "    u1 = explicit()\n",
    "    u2 = implicit()\n",
    "    res = np.zeros((m+1, n+1))\n",
    "    for i in range(m+1):\n",
    "        for j in range(n+1):\n",
    "            res[i, j] = answer(t[i], x[j])\n",
    "    return norm(u1-res), norm(u2-res)\n",
    "#     print(f'Норма невязки решения по явной схеме: {norm(u1-res)}\\nНорма невязки по неявной схеме: {norm(u2-res)}')"
   ]
  },
  {
   "cell_type": "code",
   "execution_count": 3,
   "metadata": {},
   "outputs": [],
   "source": [
    "a = 5\n",
    "T = 8\n",
    "koef = 3\n",
    "mu = lambda x: 3*x*x + 5\n",
    "mu1 = lambda t: 4*t*t + 5\n",
    "mu2 = lambda t: 4*t*t + 80\n",
    "def f(t, x):\n",
    "    return 8*t-18\n",
    "def answer(t, x):\n",
    "    return 3*x*x + 4*t*t + 5"
   ]
  },
  {
   "cell_type": "code",
   "execution_count": 4,
   "metadata": {},
   "outputs": [],
   "source": [
    "res = []\n",
    "for i in range(2, 50, 5):\n",
    "    n = i\n",
    "    m = round(n*n*4*koef*T/(a*a))\n",
    "    res.append(((n, m), solve_equasion(m)))"
   ]
  },
  {
   "cell_type": "code",
   "execution_count": 5,
   "metadata": {},
   "outputs": [
    {
     "name": "stdout",
     "output_type": "stream",
     "text": [
      "Выполнено условие на устойчивость явной схемы\n",
      "\n",
      "(n, m), Норма невязки неявной схемы, Норма невязки явной схемы\n",
      "\n",
      "(2, 15)\n",
      "7.659  8.137  \n",
      "\n",
      "(7, 188)\n",
      "4.299  4.319  \n",
      "\n",
      "(12, 553)\n",
      "3.288  3.293  \n",
      "\n",
      "(17, 1110)\n",
      "2.763  2.765  \n",
      "\n",
      "(22, 1859)\n",
      "2.429  2.430  \n",
      "\n",
      "(27, 2799)\n",
      "2.193  2.194  \n",
      "\n",
      "(32, 3932)\n",
      "2.015  2.015  \n",
      "\n",
      "(37, 5257)\n",
      "1.874  1.874  \n",
      "\n",
      "(42, 6774)\n",
      "1.759  1.759  \n",
      "\n",
      "(47, 8483)\n",
      "1.662  1.663  \n",
      "\n"
     ]
    }
   ],
   "source": [
    "print('Выполнено условие на устойчивость явной схемы\\n')\n",
    "print('(n, m), Норма невязки неявной схемы, Норма невязки явной схемы\\n')\n",
    "for i in res:\n",
    "    print(f'{i[0]}\\n{i[1][1]:<7.3f}{i[1][0]:<7.3f}\\n')"
   ]
  },
  {
   "cell_type": "code",
   "execution_count": 6,
   "metadata": {},
   "outputs": [
    {
     "name": "stderr",
     "output_type": "stream",
     "text": [
      "<ipython-input-2-87a0a91c3f70>:39: RuntimeWarning: overflow encountered in double_scalars\n",
      "  u[i, j] = u[i-1, j] + tau*koef*(u[i-1, j+1]-2*u[i-1, j] + u[i-1, j-1])/(h*h) + tau*f(t[i-1], x[j])\n",
      "<ipython-input-2-87a0a91c3f70>:39: RuntimeWarning: invalid value encountered in double_scalars\n",
      "  u[i, j] = u[i-1, j] + tau*koef*(u[i-1, j+1]-2*u[i-1, j] + u[i-1, j-1])/(h*h) + tau*f(t[i-1], x[j])\n"
     ]
    }
   ],
   "source": [
    "res = []\n",
    "for i in range(2, 50, 5):\n",
    "    n = i\n",
    "    m = round(n*n*2*koef*T/(2*a*a))\n",
    "    res.append(((n, m), solve_equasion(m)))"
   ]
  },
  {
   "cell_type": "code",
   "execution_count": 7,
   "metadata": {},
   "outputs": [
    {
     "name": "stdout",
     "output_type": "stream",
     "text": [
      "Не выполнено условие на устойчивость явной схемы\n",
      "\n",
      "(n, m), Норма невязки неявной схемы, Норма невязки явной схемы\n",
      "\n",
      "(2, 4)\n",
      "14.685 21.976 \n",
      "\n",
      "(7, 47)\n",
      "8.580  363805694785197.250\n",
      "\n",
      "(12, 138)\n",
      "6.576  7859974619324582422874997655496058967033747469519069445619712.000\n",
      "\n",
      "(17, 277)\n",
      "5.529  445869994382596786906165425399732290527652971844093299220708794686746819483457392654911388427310212982696922426698415210496.000\n",
      "\n",
      "(22, 465)\n",
      "4.856  inf    \n",
      "\n",
      "(27, 700)\n",
      "4.385  nan    \n",
      "\n",
      "(32, 983)\n",
      "4.029  nan    \n",
      "\n",
      "(37, 1314)\n",
      "3.747  nan    \n",
      "\n",
      "(42, 1693)\n",
      "3.518  nan    \n",
      "\n",
      "(47, 2121)\n",
      "3.325  nan    \n",
      "\n"
     ]
    }
   ],
   "source": [
    "print('Не выполнено условие на устойчивость явной схемы\\n')\n",
    "print('(n, m), Норма невязки неявной схемы, Норма невязки явной схемы\\n')\n",
    "for i in res:\n",
    "    print(f'{i[0]}\\n{i[1][1]:<7.3f}{i[1][0]:<7.3f}\\n')"
   ]
  },
  {
   "cell_type": "code",
   "execution_count": null,
   "metadata": {},
   "outputs": [],
   "source": []
  }
 ],
 "metadata": {
  "kernelspec": {
   "display_name": "Python 3",
   "language": "python",
   "name": "python3"
  },
  "language_info": {
   "codemirror_mode": {
    "name": "ipython",
    "version": 3
   },
   "file_extension": ".py",
   "mimetype": "text/x-python",
   "name": "python",
   "nbconvert_exporter": "python",
   "pygments_lexer": "ipython3",
   "version": "3.9.1"
  }
 },
 "nbformat": 4,
 "nbformat_minor": 4
}
