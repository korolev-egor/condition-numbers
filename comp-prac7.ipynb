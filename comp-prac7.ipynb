{
 "cells": [
  {
   "cell_type": "code",
   "execution_count": 1,
   "metadata": {},
   "outputs": [],
   "source": [
    "import numpy as np\n",
    "import pandas as pd\n",
    "import matplotlib.pyplot as plt\n",
    "import seaborn as sns\n",
    "from copy import copy\n",
    "from numpy.linalg import norm\n",
    "sns.set_theme()"
   ]
  },
  {
   "cell_type": "markdown",
   "metadata": {},
   "source": [
    "# Общий вид краевой задачи:\n",
    "# k * u_xx + p * u_x + q * u = f\n",
    "\n",
    "# Общий вид граничных условий:\n",
    "# alpha0 * u(a) + alpha1 * u'(a) = alpha\n",
    "# beta0 * u(b) + beta1 * u'(b) = beta"
   ]
  },
  {
   "cell_type": "code",
   "execution_count": 2,
   "metadata": {},
   "outputs": [],
   "source": [
    "def tridiagonal(n):\n",
    "    h = (b-a)/n\n",
    "    x = [a + i*h for i in range(n+1)]\n",
    "    alpha_temp = [0 for _ in range(n+1)]\n",
    "    beta_temp = [0 for _ in range(n+1)]\n",
    "    gamma_temp = [0 for _ in range(n+1)]\n",
    "    u = [0 for _ in range(n+1)]\n",
    "    gamma_temp[0] = h*alpha0-alpha1\n",
    "    alpha_temp[0] = -alpha1/gamma_temp[0]\n",
    "    beta_temp[0] = h*alpha\n",
    "    for i in range(1, n):\n",
    "        a_i = 2*k(x[i]) - h*p(x[i])\n",
    "        b_i = -4*k(x[i]) + 2*h*h*q(x[i])\n",
    "        c_i = 2*k(x[i]) + h*p(x[i])\n",
    "        d_i = 2*h*h*f(x[i])\n",
    "        gamma_temp[i] =  b_i + a_i*alpha_temp[i-1]\n",
    "        alpha_temp[i] = - c_i / gamma_temp[i]\n",
    "        beta_temp[i] = (d_i - a_i * beta_temp[i-1])/gamma_temp[i]\n",
    "    u[n] = beta_temp[n]\n",
    "    for i in range(n-1, -1, -1):\n",
    "        u[i] = alpha_temp[i]*u[i+1] + beta_temp[i]\n",
    "    return np.matrix(u)"
   ]
  },
  {
   "cell_type": "code",
   "execution_count": 3,
   "metadata": {},
   "outputs": [],
   "source": [
    "# def grid(k, p, q, f, a, b, alpha0, alpha1, A_p, beta0, beta1, B_p):\n",
    "def grid(epsilon):\n",
    "    n = 10\n",
    "    r = 2\n",
    "    p = 1\n",
    "    v2 = tridiagonal(n)\n",
    "    n_list = []\n",
    "    delta_list = []\n",
    "    while True:\n",
    "        v1 = copy(v2)\n",
    "        n *= r\n",
    "        v2 = tridiagonal(n)\n",
    "        delta = np.matrix(np.zeros((1, n+1)))\n",
    "        for i in range(0, v2.shape[1], 2):\n",
    "            delta[0, i] = (v2[0, i] - v1[0, round(i/2)]) / (r ** p - 1)\n",
    "        for i in range(1, v2.shape[1], 2):\n",
    "            delta[0, i] = (delta[0, i-1] + delta[0, i+1])/2\n",
    "        delta_list.append(norm(delta))\n",
    "        n_list.append(n)\n",
    "        if norm(delta) < epsilon:\n",
    "            v2+=delta\n",
    "            break\n",
    "    return n_list, delta_list"
   ]
  },
  {
   "cell_type": "code",
   "execution_count": 4,
   "metadata": {},
   "outputs": [
    {
     "data": {
      "text/plain": [
       "Text(0.5, 1.0, 'Пример 15.1 из Амосова, Дубинской')"
      ]
     },
     "execution_count": 4,
     "metadata": {},
     "output_type": "execute_result"
    },
    {
     "data": {
      "image/png": "[encoded data removed]",
      "text/plain": [
       "<Figure size 432x288 with 1 Axes>"
      ]
     },
     "metadata": {},
     "output_type": "display_data"
    }
   ],
   "source": [
    "k = lambda x: -1\n",
    "p = lambda x: 0\n",
    "q = lambda x: x**2\n",
    "f = lambda x: (np.pi**2/4+x**2)*np.cos(np.pi*x/2)\n",
    "a, b = 0, 1\n",
    "alpha0, alpha1, alpha = 1, 0, 1\n",
    "beta0, beta1, beta = 1, 0, 0\n",
    "\n",
    "x1, y1 = grid(10**-3)\n",
    "\n",
    "plt.scatter(np.log10(x1), np.log10(y1))\n",
    "plt.xlabel('log10(N)')\n",
    "plt.ylabel(\"log10(delta)\")\n",
    "plt.title('Пример 15.1 из Амосова, Дубинской')"
   ]
  },
  {
   "cell_type": "code",
   "execution_count": 5,
   "metadata": {},
   "outputs": [
    {
     "data": {
      "text/plain": [
       "Text(0.5, 1.0, 'Вариант 20 из методички Пакулиной')"
      ]
     },
     "execution_count": 5,
     "metadata": {},
     "output_type": "execute_result"
    },
    {
     "data": {
      "image/png": "[encoded data removed]",
      "text/plain": [
       "<Figure size 432x288 with 1 Axes>"
      ]
     },
     "metadata": {},
     "output_type": "display_data"
    }
   ],
   "source": [
    "k = lambda x: (7+x)/(-8+3*x)\n",
    "p = lambda x: 1-x/3\n",
    "q = lambda x: np.log(3+x)/3\n",
    "f = lambda x: (1+x)/2\n",
    "a, b = -1, 1\n",
    "alpha0, alpha1, alpha = -3, 1, 0\n",
    "beta0, beta1, beta = 0, 1, 0\n",
    "\n",
    "x1, y1 = grid(10**-4)\n",
    "plt.scatter(np.log10(x1), np.log10(y1))\n",
    "plt.xlabel('log10(N)')\n",
    "plt.ylabel(\"log10(delta)\")\n",
    "plt.title('Вариант 20 из методички Пакулиной')"
   ]
  },
  {
   "cell_type": "code",
   "execution_count": null,
   "metadata": {},
   "outputs": [],
   "source": []
  }
 ],
 "metadata": {
  "kernelspec": {
   "display_name": "Python 3",
   "language": "python",
   "name": "python3"
  },
  "language_info": {
   "codemirror_mode": {
    "name": "ipython",
    "version": 3
   },
   "file_extension": ".py",
   "mimetype": "text/x-python",
   "name": "python",
   "nbconvert_exporter": "python",
   "pygments_lexer": "ipython3",
   "version": "3.9.1"
  }
 },
 "nbformat": 4,
 "nbformat_minor": 4
}
