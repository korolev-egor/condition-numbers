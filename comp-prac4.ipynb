{
 "cells": [
  {
   "cell_type": "code",
   "execution_count": 1,
   "metadata": {},
   "outputs": [],
   "source": [
    "import numpy as np\n",
    "import pandas as pd\n",
    "import seaborn as sns\n",
    "import matplotlib.pyplot as plt\n",
    "from scipy.linalg import hilbert, solve, norm\n",
    "from numpy import matrix, sqrt\n",
    "from copy import copy\n",
    "np.random.seed(10)"
   ]
  },
  {
   "cell_type": "code",
   "execution_count": 2,
   "metadata": {},
   "outputs": [],
   "source": [
    "def solve_iteration(a, b, epsilon):\n",
    "    n = a.shape[0]\n",
    "    alpha = matrix(np.zeros((n, n)))\n",
    "    beta = matrix(np.zeros((n, 1)))\n",
    "    for i in range(n):\n",
    "        beta[i, 0] = b[i, 0] / a[i, i]\n",
    "        for j in range(n):\n",
    "            if i != j:\n",
    "                alpha[i, j] = - a[i,j] / a[i,i]\n",
    "    x = copy(beta)\n",
    "    iteration = 0\n",
    "    condition = True\n",
    "    while condition:\n",
    "        x_temp = copy(x)\n",
    "        x = beta + alpha * x\n",
    "        iteration += 1\n",
    "        condition = norm(x - x_temp) > epsilon\n",
    "    return x, iteration\n",
    "\n",
    "\n",
    "def solve_Seidel(a, b, epsilon):\n",
    "    n = a.shape[0]\n",
    "    l = matrix(np.zeros((n, n)))\n",
    "    r = matrix(np.zeros((n, n)))\n",
    "    d = matrix(np.zeros((n, n)))\n",
    "    for i in range(n):\n",
    "        d[i, i] = a[i, i]\n",
    "        for j in range(n):\n",
    "            if i < j:\n",
    "                r[i, j] = a[i, j]\n",
    "            elif i > j:\n",
    "                l[i, j] = a[i, j]\n",
    "    m = (d+l).getI()\n",
    "    x = matrix(np.zeros((n, 1)))\n",
    "    iteration = 0\n",
    "    condition = True\n",
    "    while condition:\n",
    "        x_temp = copy(x)\n",
    "        x = -m*r*x_temp + m*b\n",
    "        iteration += 1\n",
    "        condition = norm(x - x_temp) > epsilon\n",
    "    return x, iteration"
   ]
  },
  {
   "cell_type": "code",
   "execution_count": 3,
   "metadata": {},
   "outputs": [],
   "source": [
    "def test(a, eps=-10):\n",
    "    n = a.shape[0]\n",
    "    x = matrix(np.ones((n, 1)))\n",
    "    b = a * x\n",
    "    res = []\n",
    "    for e in range(-2, -10, -1):\n",
    "        res.append((10**e, solve_Seidel(a, b, 10**e)[1], solve_iteration(a, b, 10**e)[1]))\n",
    "    return res"
   ]
  },
  {
   "cell_type": "code",
   "execution_count": 4,
   "metadata": {},
   "outputs": [
    {
     "name": "stdout",
     "output_type": "stream",
     "text": [
      "Зависимость  количества итераций от epsilon\n",
      "1-й матрица из Пакулиной\n",
      "\n",
      "\n",
      "epsilon Метод ЗейделяМетод итераций\n",
      "0.01     2            2264   \n",
      "0.001    370          3370   \n",
      "0.0001   923          4474   \n",
      "1e-05    1476         5580   \n",
      "1e-06    2028         6686   \n",
      "1e-07    2581         7790   \n",
      "1e-08    3134         8896   \n",
      "1e-09    3686         10002  \n",
      "Нормы разности (|x-x_method|):\n",
      "0.1alpha 0.01 \n",
      "alpha 2 \n",
      "10alpha 2264\n",
      "0.1alpha 0.001 \n",
      "alpha 370 \n",
      "10alpha 3370\n",
      "0.1alpha 0.0001 \n",
      "alpha 923 \n",
      "10alpha 4474\n",
      "0.1alpha 1e-05 \n",
      "alpha 1476 \n",
      "10alpha 5580\n",
      "0.1alpha 1e-06 \n",
      "alpha 2028 \n",
      "10alpha 6686\n",
      "0.1alpha 1e-07 \n",
      "alpha 2581 \n",
      "10alpha 7790\n",
      "0.1alpha 1e-08 \n",
      "alpha 3134 \n",
      "10alpha 8896\n",
      "0.1alpha 1e-09 \n",
      "alpha 3686 \n",
      "10alpha 10002\n"
     ]
    }
   ],
   "source": [
    "m1 = np.matrix('-400.60 199.80; 1198.80 -600.40')  # Первый вариант матрицы из методички Пакулиной\n",
    "m2 = np.matrix(hilbert(2))\n",
    "res1 = test(m1)\n",
    "res2 = test(m2)\n",
    "print(\"Зависимость  количества итераций от epsilon\")\n",
    "print(\"1-й матрица из Пакулиной\")\n",
    "print('\\n\\n{:<8}{:<12}{:<7}'.format('epsilon', 'Метод Зейделя', 'Метод итераций'))\n",
    "for item in res1:\n",
    "    print('{:<8} {:<12.0f} {:<7}'.format(item[0], item[1], item[2]))\n",
    "print(\"Нормы разности (|x-x_method|):\")\n",
    "for i in res1:\n",
    "    print(\"0.1alpha\", i[0], '\\nalpha', i[1], '\\n10alpha', i[2])"
   ]
  },
  {
   "cell_type": "code",
   "execution_count": 15,
   "metadata": {},
   "outputs": [
    {
     "data": {
      "text/plain": [
       "Text(0.5, 1.0, 'Матрица из Пакулиной')"
      ]
     },
     "execution_count": 15,
     "metadata": {},
     "output_type": "execute_result"
    },
    {
     "data": {
      "image/png": "[encoded data removed]",
      "text/plain": [
       "<Figure size 432x288 with 1 Axes>"
      ]
     },
     "metadata": {},
     "output_type": "display_data"
    }
   ],
   "source": [
    "plt.plot([i[0] for i in res1], [i[1] for i in res1])\n",
    "sns.set_style(\"whitegrid\")\n",
    "plt.plot([i[0] for i in res1], [i[2] for i in res1])\n",
    "plt.legend(['Метод Зейделя', \"Метод простой итерации\"])\n",
    "plt.xlabel('epsilon')\n",
    "plt.ylabel('number of iterations')\n",
    "plt.title('Матрица из Пакулиной')"
   ]
  },
  {
   "cell_type": "code",
   "execution_count": 16,
   "metadata": {},
   "outputs": [
    {
     "data": {
      "text/plain": [
       "Text(0.5, 1.0, 'Матрица Гильберта 2-го порядка')"
      ]
     },
     "execution_count": 16,
     "metadata": {},
     "output_type": "execute_result"
    },
    {
     "data": {
      "image/png": "[encoded data removed]",
      "text/plain": [
       "<Figure size 432x288 with 1 Axes>"
      ]
     },
     "metadata": {},
     "output_type": "display_data"
    }
   ],
   "source": [
    "plt.plot([i[0] for i in res2], [i[1] for i in res2])\n",
    "sns.set_style(\"whitegrid\")\n",
    "plt.plot([i[0] for i in res2], [i[2] for i in res2])\n",
    "plt.legend(['Метод Зейделя', \"Метод простой итерации\"])\n",
    "plt.xlabel('epsilon')\n",
    "plt.ylabel('number of iterations')\n",
    "plt.title('Матрица Гильберта 2-го порядка')"
   ]
  },
  {
   "cell_type": "code",
   "execution_count": 7,
   "metadata": {},
   "outputs": [],
   "source": [
    "n = 1000\n",
    "m = matrix(np.random.rand(n, n))\n",
    "for i in range(n):\n",
    "    m[i, i] = sum([abs(m[i, j]) for j in range(n)])"
   ]
  },
  {
   "cell_type": "code",
   "execution_count": 9,
   "metadata": {},
   "outputs": [],
   "source": [
    "res3 = test(m)"
   ]
  },
  {
   "cell_type": "code",
   "execution_count": 10,
   "metadata": {},
   "outputs": [
    {
     "name": "stdout",
     "output_type": "stream",
     "text": [
      "Зависимость  количества итераций от epsilon\n",
      "Матрица 1000х1000 со строгим диагональным преобладанием\n",
      "\n",
      "\n",
      "epsilon Метод ЗейделяМетод итераций\n",
      "0.01     7            8695   \n",
      "0.001    8            10983  \n",
      "0.0001   10           13271  \n",
      "1e-05    12           15558  \n",
      "1e-06    13           17846  \n",
      "1e-07    14           20134  \n",
      "1e-08    16           22421  \n",
      "1e-09    18           24709  \n"
     ]
    }
   ],
   "source": [
    "print(\"Зависимость  количества итераций от epsilon\")\n",
    "print(\"Матрица 1000х1000 со строгим диагональным преобладанием\")\n",
    "print('\\n\\n{:<8}{:<12}{:<7}'.format('epsilon', 'Метод Зейделя', 'Метод итераций'))\n",
    "for item in res3:\n",
    "    print('{:<8} {:<12.0f} {:<7}'.format(item[0], item[1], item[2]))"
   ]
  }
 ],
 "metadata": {
  "kernelspec": {
   "display_name": "Python 3",
   "language": "python",
   "name": "python3"
  },
  "language_info": {
   "codemirror_mode": {
    "name": "ipython",
    "version": 3
   },
   "file_extension": ".py",
   "mimetype": "text/x-python",
   "name": "python",
   "nbconvert_exporter": "python",
   "pygments_lexer": "ipython3",
   "version": "3.9.1"
  }
 },
 "nbformat": 4,
 "nbformat_minor": 4
}
