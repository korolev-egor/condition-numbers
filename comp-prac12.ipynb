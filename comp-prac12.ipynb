{
 "cells": [
  {
   "cell_type": "code",
   "execution_count": null,
   "metadata": {},
   "outputs": [],
   "source": [
    "import matplotlib.pyplot as plt\n",
    "import random\n",
    "import numpy as np\n",
    "import copy\n",
    "import seaborn as sns\n",
    "sns.set_theme()"
   ]
  },
  {
   "cell_type": "code",
   "execution_count": null,
   "metadata": {},
   "outputs": [],
   "source": [
    "random.seed = 42"
   ]
  },
  {
   "cell_type": "code",
   "execution_count": null,
   "metadata": {},
   "outputs": [],
   "source": [
    "k = 4\n",
    "N = 400\n",
    "\n",
    "x = [random.random() for _ in range(N)]\n",
    "y = [random.random() for _ in range(N)]\n",
    "dots = [(x[i], y[i]) for i in range(N)]"
   ]
  },
  {
   "cell_type": "code",
   "execution_count": null,
   "metadata": {},
   "outputs": [],
   "source": [
    "def distance_manhattan(a, b):\n",
    "    return abs(a[0]-b[0]) + abs(a[1]-b[1])\n",
    "\n",
    "\n",
    "def distance_chebishev(a, b):\n",
    "    return max(abs(a[0]-b[0]), abs(a[1]-b[1]))\n",
    "\n",
    "\n",
    "def distance_euclidian(a, b):\n",
    "    return np.sqrt((a[0]-b[0])**2 + (a[1]-b[1])**2)\n",
    "\n",
    "\n",
    "def init_max(distance):\n",
    "    distances = []\n",
    "    centers = [np.mean(x), np.mean(y), -1]\n",
    "    for i, d in enumerate(dots):\n",
    "        distances.append((distance(dots[centers[-1]], d), i))\n",
    "    centers = [sorted(distances)[-1][1]]\n",
    "    for _ in range(k-1):\n",
    "        distances = []\n",
    "        for i, d in enumerate(dots):\n",
    "            distances.append((sum([distance(dots[c], d) for c in centers]), i))\n",
    "        centers.append(sorted(distances)[-1][1])\n",
    "    return sorted(centers)\n",
    "\n",
    "\n",
    "def init_defmax(distance):\n",
    "    max_ = [0 for _ in range(k+1)]\n",
    "    for i1 in range(N):\n",
    "        for i2 in range(i1+1, N):\n",
    "            for i3 in range(i2+1, N):\n",
    "                for i4 in range(i3+1, N):\n",
    "                    print(i1, i2, i3, i4)\n",
    "                    d = distance(dots[i1], dots[i2]) + distance(dots[i1], dots[i3]) + distance(dots[i1], dots[i4]) + distance(dots[i2], dots[i3]) + distance(dots[i2], dots[i4]) + distance(dots[i3], dots[i4])\n",
    "                    if d > max_[0]:\n",
    "                        max_[0] = d\n",
    "                        max_[1] = i1\n",
    "                        max_[2] = i2\n",
    "                        max_[3] = i3\n",
    "                        max_[4] = i4\n",
    "    return max_[1::]\n",
    "                        \n",
    "                        \n",
    "def init_random(distance):\n",
    "    centers = set()\n",
    "    while len(centers) < k:\n",
    "        centers.add(random.randint(0, N-1))\n",
    "    return sorted(list(centers))\n",
    "\n",
    "\n",
    "def kmeans(init_center, distance):\n",
    "    centers = [dots[c] for c in init_center(distance)]\n",
    "    condition = True\n",
    "    iterations = 0\n",
    "    while condition:\n",
    "        prev_centers = copy.copy(centers)\n",
    "        iterations += 1\n",
    "        clusters = [[] for _ in range(k)]\n",
    "        for i, d in enumerate(dots):\n",
    "            j = min([(distance(d, centers[j]), j) for j in range(k)])[1]\n",
    "            clusters[j].append(i)\n",
    "        for index, cluster in enumerate(clusters):\n",
    "            cluster_center = sum([dots[j][0] for j in cluster])/len(cluster), sum([dots[j][1] for j in cluster])/len(cluster)\n",
    "            centers[index] = cluster_center\n",
    "        condition = ((np.matrix(prev_centers) != np.matrix(centers))).any()\n",
    "    return clusters, iterations, centers\n",
    "\n",
    "\n",
    "def plot_kmeans(init, distance):\n",
    "    clusters, iterations, centers = kmeans(init, distance)\n",
    "    colors = [\"r\", \"g\", \"b\", \"y\", \"c\", \"m\", \"k\", \"w\"][0:k]\n",
    "    fig = plt.figure(figsize=(10, 10))\n",
    "    ax = fig.add_subplot(1, 1, 1)\n",
    "    for data, color in zip(clusters, colors):\n",
    "        x, y = [dots[i][0] for i in data], [dots[i][1] for i in data]\n",
    "        ax.scatter(x, y, alpha=0.7, c=color, edgecolors='none', s=60)\n",
    "    x, y = [r[0] for r in centers], [r[1] for r in centers]\n",
    "    ax.scatter(x, y, alpha=1, c=colors, edgecolors='none', s=300)\n",
    "    plt.title(f'{iterations} итераций, {N} точек')\n",
    "    plt.show()"
   ]
  },
  {
   "cell_type": "code",
   "execution_count": null,
   "metadata": {
    "scrolled": false
   },
   "outputs": [],
   "source": [
    "plot_kmeans(init_random, distance_euclidian)"
   ]
  },
  {
   "cell_type": "code",
   "execution_count": null,
   "metadata": {},
   "outputs": [],
   "source": [
    "plot_kmeans(init_max, distance_euclidian)"
   ]
  },
  {
   "cell_type": "code",
   "execution_count": null,
   "metadata": {},
   "outputs": [],
   "source": [
    "N = 400\n",
    "circle_r = 1\n",
    "circle_x = 0\n",
    "circle_y = 0\n",
    "alpha = [2 * np.pi * random.random() for _ in range(N)]\n",
    "r = [circle_r * np.sqrt(random.random()) for _ in range(N)]\n",
    "x = [r[i] * np.cos(alpha[i]) + circle_x for i in range(N)]\n",
    "y = [r[i] * np.sin(alpha[i]) + circle_y for i in range(N)]\n",
    "dots = [(x[i], y[i]) for i in range(N)]"
   ]
  },
  {
   "cell_type": "code",
   "execution_count": null,
   "metadata": {
    "scrolled": false
   },
   "outputs": [],
   "source": [
    "plot_kmeans(init_max, distance_chebishev)"
   ]
  },
  {
   "cell_type": "code",
   "execution_count": null,
   "metadata": {},
   "outputs": [],
   "source": [
    "plot_kmeans(init_max, distance_euclidian)"
   ]
  },
  {
   "cell_type": "code",
   "execution_count": null,
   "metadata": {
    "scrolled": false
   },
   "outputs": [],
   "source": [
    "plot_kmeans(init_max, distance_manhattan)"
   ]
  },
  {
   "cell_type": "code",
   "execution_count": null,
   "metadata": {},
   "outputs": [],
   "source": [
    "res = [0, 0, 0]\n",
    "N = 40000\n",
    "for i in range(1):\n",
    "    alpha = [2 * np.pi * random.random() for _ in range(N)]\n",
    "    r = [circle_r * np.sqrt(random.random()) for _ in range(N)]\n",
    "    x = [r[i] * np.cos(alpha[i]) + circle_x for i in range(N)]\n",
    "    y = [r[i] * np.sin(alpha[i]) + circle_y for i in range(N)]\n",
    "    dots = [(x[i], y[i]) for i in range(N)]\n",
    "    res[0] += kmeans(init_max, distance_chebishev)[1]\n",
    "    res[1] += kmeans(init_max, distance_euclidian)[1]\n",
    "    res[2] += kmeans(init_max, distance_manhattan)[1]\n",
    "\n",
    "res"
   ]
  },
  {
   "cell_type": "code",
   "execution_count": null,
   "metadata": {},
   "outputs": [],
   "source": []
  }
 ],
 "metadata": {
  "kernelspec": {
   "display_name": "Python 3",
   "language": "python",
   "name": "python3"
  },
  "language_info": {
   "codemirror_mode": {
    "name": "ipython",
    "version": 3
   },
   "file_extension": ".py",
   "mimetype": "text/x-python",
   "name": "python",
   "nbconvert_exporter": "python",
   "pygments_lexer": "ipython3",
   "version": "3.9.1"
  }
 },
 "nbformat": 4,
 "nbformat_minor": 4
}
