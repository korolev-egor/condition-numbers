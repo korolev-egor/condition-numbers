{
 "cells": [
  {
   "cell_type": "code",
   "execution_count": 1,
   "metadata": {},
   "outputs": [],
   "source": [
    "import numpy\n",
    "from numpy import matrix\n",
    "from numpy.linalg import norm"
   ]
  },
  {
   "cell_type": "code",
   "execution_count": 2,
   "metadata": {},
   "outputs": [],
   "source": [
    "def z(s):\n",
    "    return 1\n",
    "\n",
    "\n",
    "def K(x, s):\n",
    "    return 1/(2+x*s)"
   ]
  },
  {
   "cell_type": "code",
   "execution_count": 3,
   "metadata": {},
   "outputs": [],
   "source": [
    "a = 0\n",
    "b = 1"
   ]
  },
  {
   "cell_type": "code",
   "execution_count": 4,
   "metadata": {},
   "outputs": [],
   "source": [
    "def regularize_solve(n):\n",
    "    h = (b-a)/n\n",
    "    x = [a + i*h for i in range(n+1)]\n",
    "    s = [(x[i-1] + x[i]) / 2 for i in range(1, n+1)]\n",
    "    A = [x[i] - x[i-1] for i in range(1, n+1)]\n",
    "    C = matrix(numpy.zeros((n,n)))\n",
    "    for i in range(n):\n",
    "        for j in range(n):\n",
    "            C[i, j] = A[j] * K(s[i], s[j])\n",
    "    Z = matrix(numpy.ones((n, 1)))\n",
    "    U = C * Z\n",
    "    alphas = [10**i for i in range(-18, -1)]\n",
    "    res = []\n",
    "    for alpha in alphas:\n",
    "        appr = numpy.linalg.solve(C.T*C + alpha*matrix(numpy.eye(n)), C.T*U)\n",
    "        res.append((alpha, norm(Z-appr)))\n",
    "    return res"
   ]
  },
  {
   "cell_type": "code",
   "execution_count": 5,
   "metadata": {},
   "outputs": [],
   "source": [
    "res = []\n",
    "for n in [2**i for i in range(3, 11)]:\n",
    "    res.append((n, regularize_solve(n)))\n",
    "\n",
    "min_ = (1, 1, 1000)\n",
    "for item in res:\n",
    "    for subitem in item[1]:\n",
    "        if subitem[1] < min_[2]:\n",
    "            min_ = (item[0], subitem[0], subitem[1])\n",
    "print(min_)"
   ]
  }
 ],
 "metadata": {
  "kernelspec": {
   "display_name": "Python 3",
   "language": "python",
   "name": "python3"
  },
  "language_info": {
   "codemirror_mode": {
    "name": "ipython",
    "version": 3
   },
   "file_extension": ".py",
   "mimetype": "text/x-python",
   "name": "python",
   "nbconvert_exporter": "python",
   "pygments_lexer": "ipython3",
   "version": "3.9.1"
  }
 },
 "nbformat": 4,
 "nbformat_minor": 4
}
