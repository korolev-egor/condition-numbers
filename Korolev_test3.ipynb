{
 "cells": [
  {
   "cell_type": "code",
   "execution_count": 11,
   "metadata": {},
   "outputs": [],
   "source": [
    "import numpy\n",
    "from numpy import matrix\n",
    "from numpy.linalg import norm\n",
    "from tabulate import tabulate"
   ]
  },
  {
   "cell_type": "code",
   "execution_count": 2,
   "metadata": {},
   "outputs": [],
   "source": [
    "def z(s):\n",
    "    return 1\n",
    "\n",
    "\n",
    "def K(x, s):\n",
    "    return 1/(2+x*s)"
   ]
  },
  {
   "cell_type": "code",
   "execution_count": 3,
   "metadata": {},
   "outputs": [],
   "source": [
    "a = 0\n",
    "b = 1"
   ]
  },
  {
   "cell_type": "code",
   "execution_count": 33,
   "metadata": {},
   "outputs": [],
   "source": [
    "def regularize_solve(n):\n",
    "    h = (b-a)/n\n",
    "    x = [a + i*h for i in range(n+1)]\n",
    "    s = [(x[i-1] + x[i]) / 2 for i in range(1, n+1)]\n",
    "    A = [x[i] - x[i-1] for i in range(1, n+1)]\n",
    "    C = matrix(numpy.zeros((n,n)))\n",
    "    for i in range(n):\n",
    "        for j in range(n):\n",
    "            C[i, j] = A[j] * K(s[i], s[j])\n",
    "    Z = matrix(numpy.ones((n, 1)))\n",
    "    U = C * Z\n",
    "    alphas = [10**i for i in range(-17, -1, 2)]\n",
    "    res = []\n",
    "    for alpha in alphas:\n",
    "        appr = numpy.linalg.solve(C.T*C + alpha*matrix(numpy.eye(n)), C.T*U)\n",
    "        res.append((alpha, norm(Z-appr)))\n",
    "    return res"
   ]
  },
  {
   "cell_type": "code",
   "execution_count": 34,
   "metadata": {},
   "outputs": [
    {
     "name": "stdout",
     "output_type": "stream",
     "text": [
      "(8, 1e-11, 2.310742890588934e-05)\n"
     ]
    }
   ],
   "source": [
    "res = []\n",
    "for n in [2**i for i in range(3, 11)]:\n",
    "    res.append((n, regularize_solve(n)))\n",
    "\n",
    "min_ = (1, 1, 1000)\n",
    "for item in res:\n",
    "    for subitem in item[1]:\n",
    "        if subitem[1] < min_[2]:\n",
    "            min_ = (item[0], subitem[0], subitem[1])\n",
    "print(min_)"
   ]
  },
  {
   "cell_type": "code",
   "execution_count": 36,
   "metadata": {
    "scrolled": true
   },
   "outputs": [
    {
     "name": "stdout",
     "output_type": "stream",
     "text": [
      "   n       1e-17      1e-15        1e-13        1e-11        1e-09       1e-07       1e-05     0.001\n",
      "----  ----------  ---------  -----------  -----------  -----------  ----------  ----------  --------\n",
      "   8     1.47849  0.0219061  0.000130918  2.31074e-05  0.000169189  0.00235068  0.00898559  0.134983\n",
      "  16     3.70967  0.0444077  0.000492415  2.43377e-05  0.000233398  0.00311515  0.0126138   0.190925\n",
      "  32    31.3526   0.093094   0.000923492  3.22799e-05  0.000326979  0.00433271  0.0178055   0.270015\n",
      "  64    59.1219   0.217404   0.00218173   5.01475e-05  0.000461274  0.00610177  0.0251691   0.38186\n",
      " 128  1638.58     0.410075   0.00406555   7.45454e-05  0.00065194   0.00862016  0.0355904   0.540032\n",
      " 256    82.5236   0.710694   0.00722675   0.000111262  0.000921846  0.0121875   0.0503309   0.763721\n",
      " 512   161.255    1.4125     0.0141007    0.000189301  0.00130354   0.0172347   0.0711782   1.08006\n",
      "1024   311.595    2.9958     0.0300108    0.000343662  0.00184351   0.0243731   0.100661    1.52744\n"
     ]
    }
   ],
   "source": [
    "new_res = []\n",
    "for i, k in enumerate(res):\n",
    "    new_res.append([k[0]])\n",
    "    for j in k[1]:\n",
    "        new_res[i].append(j[1])\n",
    "\n",
    "columns = ['n', *[10**i for i in range(-17, -1, 2)]]\n",
    "print(tabulate(new_res, headers=columns, stralign='left'))"
   ]
  },
  {
   "cell_type": "code",
   "execution_count": null,
   "metadata": {},
   "outputs": [],
   "source": []
  }
 ],
 "metadata": {
  "kernelspec": {
   "display_name": "Python 3",
   "language": "python",
   "name": "python3"
  },
  "language_info": {
   "codemirror_mode": {
    "name": "ipython",
    "version": 3
   },
   "file_extension": ".py",
   "mimetype": "text/x-python",
   "name": "python",
   "nbconvert_exporter": "python",
   "pygments_lexer": "ipython3",
   "version": "3.9.1"
  }
 },
 "nbformat": 4,
 "nbformat_minor": 4
}
