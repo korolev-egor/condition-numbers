{
 "cells": [
  {
   "cell_type": "markdown",
   "metadata": {},
   "source": [
    "# Влияние ошибок округления на решение СЛАУ. Числа обусловленности."
   ]
  },
  {
   "cell_type": "code",
   "execution_count": null,
   "metadata": {},
   "outputs": [],
   "source": [
    "import numpy as np\n",
    "import pandas as pd\n",
    "import seaborn as sn\n",
    "import matplotlib.pyplot as plt\n",
    "from scipy.linalg import hilbert"
   ]
  },
  {
   "cell_type": "code",
   "execution_count": null,
   "metadata": {},
   "outputs": [],
   "source": [
    "m1 = np.matrix('-400.60 199.80; 1198.80 -600.40')  # Первый вариант матрицы из методички Пакулиной\n",
    "\n",
    "m2 = np.matrix(hilbert(2))  # Матрица Гильберта второго порядка\n",
    "\n",
    "m3 = np.matrix(hilbert(5))  # Матрица Гильберта пятого порядка"
   ]
  },
  {
   "cell_type": "code",
   "execution_count": null,
   "metadata": {},
   "outputs": [],
   "source": [
    "def norm(matrix):  # Спектральная норма матрицы\n",
    "    return np.linalg.norm(x=matrix, ord=2)\n",
    "\n",
    "\n",
    "def det(matrix):  # Определитель матрицы\n",
    "    return np.linalg.det(matrix)"
   ]
  },
  {
   "cell_type": "code",
   "execution_count": null,
   "metadata": {},
   "outputs": [],
   "source": [
    "def cond1(matrix):  # Спектральный критерий обусловленности\n",
    "    return norm(matrix) * norm(matrix.getI())\n",
    "\n",
    "\n",
    "def cond2(matrix):  # Критерий Ортеги\n",
    "    res = 1\n",
    "    for n in range(matrix.shape[0]):\n",
    "        sum_ = 0\n",
    "        for m in range(matrix.shape[0]):\n",
    "            sum_ += matrix[n, m]**2\n",
    "        res *= np.sqrt(sum_)\n",
    "    return res/det(matrix)\n",
    "\n",
    "\n",
    "def cond3(matrix):  # Угловой критерий\n",
    "    res = 0\n",
    "    inv_matrix = matrix.getI()\n",
    "    for i in range(matrix.shape[0]):\n",
    "        a = norm(matrix[i, :]) * norm(inv_matrix[:, i])\n",
    "        if a > res:\n",
    "            res = a\n",
    "    return res"
   ]
  },
  {
   "cell_type": "code",
   "execution_count": null,
   "metadata": {},
   "outputs": [],
   "source": [
    "def randomx(n):  # Генерирует вектор-столбец x из отрезка [0, 1] \n",
    "    return(np.matrix(np.random.rand(n, 1)))\n",
    "\n",
    "\n",
    "def constx(n):  # Возвращает вектор-столбец из единиц\n",
    "    return np.matrix((\"1;\"*n)[:-1])"
   ]
  },
  {
   "cell_type": "code",
   "execution_count": null,
   "metadata": {},
   "outputs": [],
   "source": [
    "def computation(m, x):\n",
    "    def variation(n):\n",
    "        nonlocal m, b, x, conds, errors\n",
    "        varm = m + n\n",
    "        varb = b + n\n",
    "        varx = varm.getI() * varb\n",
    "        conds.append((cond1(varm), cond2(varm), cond3(varm)))\n",
    "        errors.append((norm(varx - x)))\n",
    "        print(f'n = {n}\\nСпектральный критерий: {conds[-1][0]}\\nКритерий Ортеги: {conds[-1][1]}\\nУгловой критерий: {conds[-1][2]}\\nМодуль невязки x: {errors[-1]}')\n",
    "    b = m * x\n",
    "    conds = []\n",
    "    errors = []\n",
    "    print(\"Ax = b\")\n",
    "    print(\"A =\\n\", m)\n",
    "    print(\"x =\\n\", x)\n",
    "    print(\"b =\\n\", b)\n",
    "    variation(0)\n",
    "    for i in range(-10, -1, 2):  # Варьируем матрицы\n",
    "        variation(10**i)\n",
    "    for j in range(3):  # Выводим график зависиости погрешности от числа обусловленности\n",
    "        sn.scatterplot(x=([i[j] for i in conds]), y=(errors))\n",
    "        plt.xlabel(f\"Число обусловленности {j+1}\")\n",
    "        plt.ylabel(\"Погрешность решения x\")\n",
    "        plt.show()\n",
    "        print(f\"Зависимость между величиной {j+1}-го числа обусловленности и погрешностью решения(коэффициент пирсона):\",\n",
    "              np.corrcoef([i[j] for i in conds], errors)[0][1])"
   ]
  },
  {
   "cell_type": "code",
   "execution_count": null,
   "metadata": {
    "scrolled": true
   },
   "outputs": [],
   "source": [
    "test = np.matrix(np.random.rand(5, 5))  \n",
    "# проверка зависимости погрешности решения от \n",
    "# чисел обусловленности на случайных матрицах\n",
    "testx = randomx(5)\n",
    "\n",
    "computation(test, testx)"
   ]
  },
  {
   "cell_type": "code",
   "execution_count": null,
   "metadata": {
    "scrolled": true
   },
   "outputs": [],
   "source": [
    "computation(m1, randomx(2))"
   ]
  },
  {
   "cell_type": "code",
   "execution_count": null,
   "metadata": {
    "scrolled": true
   },
   "outputs": [],
   "source": [
    "computation(m1, constx(2))"
   ]
  },
  {
   "cell_type": "code",
   "execution_count": null,
   "metadata": {
    "scrolled": true
   },
   "outputs": [],
   "source": [
    "computation(m2, randomx(2))"
   ]
  },
  {
   "cell_type": "code",
   "execution_count": null,
   "metadata": {
    "scrolled": true
   },
   "outputs": [],
   "source": [
    "computation(m2, constx(2))"
   ]
  },
  {
   "cell_type": "code",
   "execution_count": null,
   "metadata": {
    "scrolled": true
   },
   "outputs": [],
   "source": [
    "computation(m3, randomx(5))"
   ]
  },
  {
   "cell_type": "code",
   "execution_count": null,
   "metadata": {
    "scrolled": true
   },
   "outputs": [],
   "source": [
    "computation(m3, constx(5))"
   ]
  },
  {
   "cell_type": "code",
   "execution_count": null,
   "metadata": {},
   "outputs": [],
   "source": [
    "x = [1, 2, 0]\n",
    "y = [1, 2, 10000]\n",
    "np.corrcoef(x, y)"
   ]
  }
 ],
 "metadata": {
  "kernelspec": {
   "display_name": "Python 3",
   "language": "python",
   "name": "python3"
  },
  "language_info": {
   "codemirror_mode": {
    "name": "ipython",
    "version": 3
   },
   "file_extension": ".py",
   "mimetype": "text/x-python",
   "name": "python",
   "nbconvert_exporter": "python",
   "pygments_lexer": "ipython3",
   "version": "3.9.1"
  }
 },
 "nbformat": 4,
 "nbformat_minor": 4
}
