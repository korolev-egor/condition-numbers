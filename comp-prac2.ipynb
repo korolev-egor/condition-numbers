{
 "cells": [
  {
   "cell_type": "markdown",
   "metadata": {},
   "source": [
    "# Разложение методом квадратного корня"
   ]
  },
  {
   "cell_type": "code",
   "execution_count": null,
   "metadata": {},
   "outputs": [],
   "source": [
    "import numpy as np\n",
    "import pandas as pd\n",
    "import seaborn as sn\n",
    "import matplotlib.pyplot as plt\n",
    "from scipy.linalg import hilbert, solve\n",
    "from numpy import matrix"
   ]
  },
  {
   "cell_type": "code",
   "execution_count": null,
   "metadata": {},
   "outputs": [],
   "source": [
    "def sqrt_decomposition(a):  # Метод квадратого корня\n",
    "    n = a.shape[0]\n",
    "    l = matrix(np.zeros((n, n)))\n",
    "    for i in range(n):\n",
    "        for j in range(i):\n",
    "            l[i, j] = (a[i, j] - sum([l[i, k]*l[j, k] for k in range(j)])) / l[j, j]\n",
    "        l[i, i] = np.sqrt(a[i, i]-sum([l[i, k]*l[i, k] for k in range(i)]))\n",
    "    return l"
   ]
  },
  {
   "cell_type": "code",
   "execution_count": null,
   "metadata": {},
   "outputs": [],
   "source": [
    "def solve_system(a, b):  # Решение системы через разложение методом квадратного корня\n",
    "    l = sqrt_decomposition(a)\n",
    "    y = solve(l, b)\n",
    "    x = solve(l.T, y)\n",
    "    return x"
   ]
  },
  {
   "cell_type": "code",
   "execution_count": null,
   "metadata": {},
   "outputs": [],
   "source": [
    "np.random.seed(10)"
   ]
  },
  {
   "cell_type": "markdown",
   "metadata": {},
   "source": [
    "# Регуляризация матриц"
   ]
  },
  {
   "cell_type": "code",
   "execution_count": null,
   "metadata": {},
   "outputs": [],
   "source": [
    "def generatex0(n):  # Генерируем вектор рамера n с элементами [-10, 10]\n",
    "    return matrix([-10+20*np.random.random() for _ in range(n)]).T"
   ]
  },
  {
   "cell_type": "code",
   "execution_count": null,
   "metadata": {},
   "outputs": [],
   "source": [
    "a1 = matrix(hilbert(5))\n",
    "a2 = matrix(hilbert(10))\n"
   ]
  },
  {
   "cell_type": "code",
   "execution_count": null,
   "metadata": {},
   "outputs": [],
   "source": [
    "x1 = np.ones((5, 1))\n",
    "x2 = np.ones((10, 1))"
   ]
  },
  {
   "cell_type": "code",
   "execution_count": null,
   "metadata": {},
   "outputs": [],
   "source": [
    "b1 = a1*x1\n",
    "b2 = a2*x2"
   ]
  },
  {
   "cell_type": "code",
   "execution_count": null,
   "metadata": {},
   "outputs": [],
   "source": [
    "def norm(matrix):  # Спектральная норма матрицы\n",
    "    return np.linalg.norm(x=matrix, ord=2)\n",
    "\n",
    "\n",
    "def cond(matrix):  # Спектральный критерий обусловленности\n",
    "    return norm(matrix) * norm(matrix.getI())\n",
    "\n",
    "\n",
    "def regularization(a, b):\n",
    "    n = a.shape[0]\n",
    "    conds = [cond(a)]\n",
    "    errors = [0]\n",
    "    alphas = [0]\n",
    "    x = solve_system(a, b)\n",
    "    for alpha in range(-12, 0):\n",
    "        a_alpha = a + (10**alpha)*matrix(np.eye(n))\n",
    "        conds.append(cond(a_alpha))\n",
    "        x_alpha = solve_system(a_alpha, b)\n",
    "        errors.append(norm(x_alpha-x))\n",
    "        alphas.append(10**alpha)\n",
    "    res = list(zip(alphas, conds, errors))\n",
    "    return res"
   ]
  },
  {
   "cell_type": "code",
   "execution_count": null,
   "metadata": {},
   "outputs": [],
   "source": [
    "def main(a, b):\n",
    "    res = regularization(a, b)\n",
    "    print('A =\\n', a, '\\nb =\\n', b)\n",
    "    print('\\n\\n{:<8}{:<12}{:<7}'.format('Alpha', 'Cond(A)', 'Модуль невязки'))\n",
    "    for item in res:\n",
    "        print('{:<8} {:<12.0f} {:<7}'.format(item[0], item[1], item[2]))"
   ]
  },
  {
   "cell_type": "code",
   "execution_count": null,
   "metadata": {},
   "outputs": [],
   "source": [
    "def test(a, alpha):\n",
    "    n = a.shape[0]\n",
    "    x0 = generatex0(n)\n",
    "    print('Значение фиксированного alpha:', alpha)\n",
    "    print('Норма x0(решения):', norm(x0))\n",
    "    b = a * x0\n",
    "    res = []\n",
    "    res.append(norm(solve_system(a+0.1*alpha*matrix(np.eye(n)), b)-x0))\n",
    "    res.append(norm(solve_system(a+alpha*matrix(np.eye(n)), b)-x0))\n",
    "    res.append(norm(solve_system(a+10*alpha*matrix(np.eye(n)), b)-x0))\n",
    "    print(\"Нормы разности (|x-x_alpha|):\")\n",
    "    print(\"0.1alpha\", res[0], '\\nalpha', res[1], '\\n10alpha', res[2])"
   ]
  },
  {
   "cell_type": "code",
   "execution_count": null,
   "metadata": {
    "scrolled": false
   },
   "outputs": [],
   "source": [
    "main(a1, b1)"
   ]
  },
  {
   "cell_type": "code",
   "execution_count": null,
   "metadata": {},
   "outputs": [],
   "source": [
    "test(a1, 1e-05)"
   ]
  },
  {
   "cell_type": "code",
   "execution_count": null,
   "metadata": {},
   "outputs": [],
   "source": [
    "main(a2, b2)"
   ]
  },
  {
   "cell_type": "code",
   "execution_count": null,
   "metadata": {},
   "outputs": [],
   "source": [
    "test(a2, 1e-05)"
   ]
  },
  {
   "cell_type": "code",
   "execution_count": null,
   "metadata": {},
   "outputs": [],
   "source": []
  }
 ],
 "metadata": {
  "kernelspec": {
   "display_name": "Python 3",
   "language": "python",
   "name": "python3"
  },
  "language_info": {
   "codemirror_mode": {
    "name": "ipython",
    "version": 3
   },
   "file_extension": ".py",
   "mimetype": "text/x-python",
   "name": "python",
   "nbconvert_exporter": "python",
   "pygments_lexer": "ipython3",
   "version": "3.9.1"
  }
 },
 "nbformat": 4,
 "nbformat_minor": 4
}
